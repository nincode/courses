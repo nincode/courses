{
 "cells": [
  {
   "cell_type": "code",
   "execution_count": 11,
   "metadata": {
    "collapsed": false
   },
   "outputs": [
    {
     "name": "stdout",
     "output_type": "stream",
     "text": [
      "{u'Kitchen.20180114_152000.jpg': {u'name': u'Kitchen.20180114_152000.jpg', u'tags': {u'Ivana': {u'y': 0.49907407407407406, u'x': 0.8, u'label': u'Ivana'}, u'Luka': {u'y': 0.5787037037037037, u'x': 0.7729166666666667, u'label': u'Luka'}, u'Lana': {u'y': 0.3472222222222222, u'x': 0.7005208333333334, u'label': u'Lana'}, u'Filip': {u'y': 0.3490740740740741, u'x': 0.6875, u'label': u'Filip'}}}, u'Kitchen.20180114_174000.jpg': {u'name': u'Kitchen.20180114_174000.jpg', u'tags': {u'Ivana': {u'y': 0.387037037037037, u'x': 0.7244791666666667, u'label': u'Ivana'}, u'Relja': {u'y': 0.3212962962962963, u'x': 0.8208333333333333, u'label': u'Relja'}, u'Luka': {u'y': 0.4564814814814815, u'x': 0.6635416666666667, u'label': u'Luka'}, u'Svetlana': {u'y': 0.30277777777777776, u'x': 0.7619791666666667, u'label': u'Svetlana'}, u'Filip': {u'y': 0.4638888888888889, u'x': 0.7994791666666666, u'label': u'Filip'}}}, u'Kitchen.20180114_184000.jpg': {u'name': u'Kitchen.20180114_184000.jpg', u'tags': {u'Ivana': {u'y': 0.38981481481481484, u'x': 0.4583333333333333, u'label': u'Ivana'}, u'Relja': {u'y': 0.5175925925925926, u'x': 0.3776041666666667, u'label': u'Relja'}, u'Svetlana': {u'y': 0.40185185185185185, u'x': 0.3390625, u'label': u'Svetlana'}}}, u'Kitchen.20180114_145000.jpg': {u'name': u'Kitchen.20180114_145000.jpg', u'tags': {u'Luka': {u'y': 0.37222222222222223, u'x': 0.6541666666666667, u'label': u'Luka'}}}, u'Kitchen.20180114_185000.jpg': {u'name': u'Kitchen.20180114_185000.jpg', u'tags': {u'Ivana': {u'y': 0.387037037037037, u'x': 0.7255208333333333, u'label': u'Ivana'}, u'Relja': {u'y': 0.6805555555555556, u'x': 0.3848958333333333, u'label': u'Relja'}, u'Svetlana': {u'y': 0.412962962962963, u'x': 0.3411458333333333, u'label': u'Svetlana'}, u'Lana': {u'y': 0.30462962962962964, u'x': 0.7088541666666667, u'label': u'Lana'}}}, u'Kitchen.20180114_183000.jpg': {u'name': u'Kitchen.20180114_183000.jpg', u'tags': {u'Ivana': {u'y': 0.38333333333333336, u'x': 0.45364583333333336, u'label': u'Ivana'}, u'Svetlana': {u'y': 0.41203703703703703, u'x': 0.3484375, u'label': u'Svetlana'}}}, u'Kitchen.20180114_093000.jpg': {u'name': u'Kitchen.20180114_093000.jpg', u'tags': {u'Ivana': {u'y': 0.1111111111111111, u'x': 0.5729166666666666, u'label': u'Ivana'}}}, u'Kitchen.20180114_163000.jpg': {u'name': u'Kitchen.20180114_163000.jpg', u'tags': {u'Luka': {u'y': 0.36944444444444446, u'x': 0.5557291666666667, u'label': u'Luka'}}}, u'Kitchen.20180114_133000.jpg': {u'name': u'Kitchen.20180114_133000.jpg', u'tags': {u'Ivana': {u'y': 0.41388888888888886, u'x': 0.7260416666666667, u'label': u'Ivana'}, u'Luka': {u'y': 0.462037037037037, u'x': 0.6989583333333333, u'label': u'Luka'}, u'Filip': {u'y': 0.3472222222222222, u'x': 0.6854166666666667, u'label': u'Filip'}}}, u'Kitchen.20180114_150000.jpg': {u'name': u'Kitchen.20180114_150000.jpg', u'tags': {u'Ivana': {u'y': 0.3592592592592593, u'x': 0.6541666666666667, u'label': u'Ivana'}, u'Lana': {u'y': 0.575, u'x': 0.5901041666666667, u'label': u'Lana'}}}, u'Kitchen.20180114_202000.jpg': {u'name': u'Kitchen.20180114_202000.jpg', u'tags': {u'Ivana': {u'y': 0.37222222222222223, u'x': 0.6072916666666667, u'label': u'Ivana'}, u'Luka': {u'y': 0.4, u'x': 0.3765625, u'label': u'Luka'}, u'Filip': {u'y': 0.362962962962963, u'x': 0.5744791666666667, u'label': u'Filip'}}}, u'Kitchen.20180114_203000.jpg': {u'name': u'Kitchen.20180114_203000.jpg', u'tags': {u'Ivana': {u'y': 0.36574074074074076, u'x': 0.8072916666666666, u'label': u'Ivana'}, u'Luka': {u'y': 0.4027777777777778, u'x': 0.3890625, u'label': u'Luka'}, u'Lana': {u'y': 0.3814814814814815, u'x': 0.7802083333333333, u'label': u'Lana'}}}, u'Kitchen.20180114_143000.jpg': {u'name': u'Kitchen.20180114_143000.jpg', u'tags': {u'Luka': {u'y': 0.3731481481481482, u'x': 0.6604166666666667, u'label': u'Luka'}, u'Filip': {u'y': 0.30833333333333335, u'x': 0.71875, u'label': u'Filip'}}}, u'Kitchen.20180114_182000.jpg': {u'name': u'Kitchen.20180114_182000.jpg', u'tags': {u'Relja': {u'y': 0.6925925925925925, u'x': 0.3770833333333333, u'label': u'Relja'}, u'Svetlana': {u'y': 0.4083333333333333, u'x': 0.3338541666666667, u'label': u'Svetlana'}}}, u'Kitchen.20180114_201000.jpg': {u'name': u'Kitchen.20180114_201000.jpg', u'tags': {u'Ivana': {u'y': 0.2972222222222222, u'x': 0.7598958333333333, u'label': u'Ivana'}, u'Relja': {u'y': 0.25462962962962965, u'x': 0.6645833333333333, u'label': u'Relja'}, u'Luka': {u'y': 0.3527777777777778, u'x': 0.7958333333333333, u'label': u'Luka'}, u'Lana': {u'y': 0.3925925925925926, u'x': 0.8135416666666667, u'label': u'Lana'}}}, u'Kitchen.20180114_191000.jpg': {u'name': u'Kitchen.20180114_191000.jpg', u'tags': {u'Ivana': {u'y': 0.4046296296296296, u'x': 0.8302083333333333, u'label': u'Ivana'}}}, u'Kitchen.20180114_175000.jpg': {u'name': u'Kitchen.20180114_175000.jpg', u'tags': {u'Ivana': {u'y': 0.34444444444444444, u'x': 0.7755208333333333, u'label': u'Ivana'}, u'Relja': {u'y': 0.33240740740740743, u'x': 0.5921875, u'label': u'Relja'}, u'Svetlana': {u'y': 0.3351851851851852, u'x': 0.6479166666666667, u'label': u'Svetlana'}}}, u'Kitchen.20180114_151000.jpg': {u'name': u'Kitchen.20180114_151000.jpg', u'tags': {u'Ivana': {u'y': 0.39351851851851855, u'x': 0.32083333333333336, u'label': u'Ivana'}, u'Lana': {u'y': 0.4444444444444444, u'x': 0.30572916666666666, u'label': u'Lana'}}}, u'Kitchen.20180114_135000.jpg': {u'name': u'Kitchen.20180114_135000.jpg', u'tags': {u'Luka': {u'y': 0.3638888888888889, u'x': 0.6567708333333333, u'label': u'Luka'}}}, u'Kitchen.20180114_154000.jpg': {u'name': u'Kitchen.20180114_154000.jpg', u'tags': {u'Ivana': {u'y': 0.34629629629629627, u'x': 0.7677083333333333, u'label': u'Ivana'}, u'Filip': {u'y': 0.6055555555555555, u'x': 0.609375, u'label': u'Filip'}}}, u'Kitchen.20180114_225000.jpg': {u'name': u'Kitchen.20180114_225000.jpg', u'tags': {u'Svetlana': {u'y': 0.2851851851851852, u'x': 0.68125, u'label': u'Svetlana'}}}, u'Kitchen.20180114_134000.jpg': {u'name': u'Kitchen.20180114_134000.jpg', u'tags': {u'Ivana': {u'y': 0.41574074074074074, u'x': 0.7875, u'label': u'Ivana'}, u'Luka': {u'y': 0.3851851851851852, u'x': 0.6546875, u'label': u'Luka'}}}, u'Kitchen.20180114_153000.jpg': {u'name': u'Kitchen.20180114_153000.jpg', u'tags': {u'Luka': {u'y': 0.37777777777777777, u'x': 0.6536458333333334, u'label': u'Luka'}}}, u'Kitchen.20180114_171000.jpg': {u'name': u'Kitchen.20180114_171000.jpg', u'tags': {u'Ivana': {u'y': 0.36203703703703705, u'x': 0.7578125, u'label': u'Ivana'}}}, u'Kitchen.20180114_192000.jpg': {u'name': u'Kitchen.20180114_192000.jpg', u'tags': {u'Ivana': {u'y': 0.2861111111111111, u'x': 0.7453125, u'label': u'Ivana'}, u'Relja': {u'y': 0.36018518518518516, u'x': 0.7442708333333333, u'label': u'Relja'}, u'Svetlana': {u'y': 0.30925925925925923, u'x': 0.6510416666666666, u'label': u'Svetlana'}}}, u'Kitchen.20180114_194000.jpg': {u'name': u'Kitchen.20180114_194000.jpg', u'tags': {u'Luka': {u'y': 0.7592592592592593, u'x': 0.5072916666666667, u'label': u'Luka'}, u'Filip': {u'y': 0.6546296296296297, u'x': 0.390625, u'label': u'Filip'}}}, u'Kitchen.20180114_144000.jpg': {u'name': u'Kitchen.20180114_144000.jpg', u'tags': {u'Luka': {u'y': 0.3768518518518518, u'x': 0.66875, u'label': u'Luka'}}}, u'Kitchen.20180114_173000.jpg': {u'name': u'Kitchen.20180114_173000.jpg', u'tags': {u'Ivana': {u'y': 0.38981481481481484, u'x': 0.7322916666666667, u'label': u'Ivana'}, u'Relja': {u'y': 0.3416666666666667, u'x': 0.5958333333333333, u'label': u'Relja'}, u'Lana': {u'y': 0.37222222222222223, u'x': 0.6151041666666667, u'label': u'Lana'}}}, u'Kitchen.20180114_170000.jpg': {u'name': u'Kitchen.20180114_170000.jpg', u'tags': {u'Ivana': {u'y': 0.3675925925925926, u'x': 0.7416666666666667, u'label': u'Ivana'}, u'Luka': {u'y': 0.5527777777777778, u'x': 0.421875, u'label': u'Luka'}}}, u'Kitchen.20180114_165000.jpg': {u'name': u'Kitchen.20180114_165000.jpg', u'tags': {u'Ivana': {u'y': 0.3314814814814815, u'x': 0.7833333333333333, u'label': u'Ivana'}}}, u'Kitchen.20180114_092000.jpg': {u'name': u'Kitchen.20180114_092000.jpg', u'tags': {u'Ivana': {u'y': 0.4111111111111111, u'x': 0.3145833333333333, u'label': u'Ivana'}, u'Relja': {u'y': 0.3814814814814815, u'x': 0.3489583333333333, u'label': u'Relja'}, u'Lana': {u'y': 0.4064814814814815, u'x': 0.5505208333333333, u'label': u'Lana'}, u'Filip': {u'y': 0.45185185185185184, u'x': 0.3489583333333333, u'label': u'Filip'}}}, u'Kitchen.20180114_181000.jpg': {u'name': u'Kitchen.20180114_181000.jpg', u'tags': {u'Ivana': {u'y': 0.3768518518518518, u'x': 0.7505208333333333, u'label': u'Ivana'}, u'Lana': {u'y': 0.4787037037037037, u'x': 0.7192708333333333, u'label': u'Lana'}, u'Luka': {u'y': 0.325, u'x': 0.7677083333333333, u'label': u'Luka'}, u'Svetlana': {u'y': 0.33055555555555555, u'x': 0.5463541666666667, u'label': u'Svetlana'}}}, u'Kitchen.20180114_142000.jpg': {u'name': u'Kitchen.20180114_142000.jpg', u'tags': {u'Luka': {u'y': 0.3574074074074074, u'x': 0.6458333333333334, u'label': u'Luka'}}}, u'Kitchen.20180114_172000.jpg': {u'name': u'Kitchen.20180114_172000.jpg', u'tags': {u'Ivana': {u'y': 0.3638888888888889, u'x': 0.7619791666666667, u'label': u'Ivana'}, u'Luka': {u'y': 0.4398148148148148, u'x': 0.8046875, u'label': u'Luka'}, u'Svetlana': {u'y': 0.3962962962962963, u'x': 0.38229166666666664, u'label': u'Svetlana'}}}, u'Kitchen.20180114_180000.jpg': {u'name': u'Kitchen.20180114_180000.jpg', u'tags': {u'Ivana': {u'y': 0.3435185185185185, u'x': 0.76875, u'label': u'Ivana'}, u'Relja': {u'y': 0.32685185185185184, u'x': 0.5395833333333333, u'label': u'Relja'}, u'Luka': {u'y': 0.4148148148148148, u'x': 0.4276041666666667, u'label': u'Luka'}, u'Svetlana': {u'y': 0.3194444444444444, u'x': 0.653125, u'label': u'Svetlana'}}}, u'Kitchen.20180114_195000.jpg': {u'name': u'Kitchen.20180114_195000.jpg', u'tags': {u'Luka': {u'y': 0.2935185185185185, u'x': 0.7197916666666667, u'label': u'Luka'}, u'Filip': {u'y': 0.32407407407407407, u'x': 0.728125, u'label': u'Filip'}}}, u'Kitchen.20180114_164000.jpg': {u'name': u'Kitchen.20180114_164000.jpg', u'tags': {u'Ivana': {u'y': 0.3490740740740741, u'x': 0.7994791666666666, u'label': u'Ivana'}, u'Luka': {u'y': 0.3537037037037037, u'x': 0.5901041666666667, u'label': u'Luka'}}}, u'Kitchen.20180114_190000.jpg': {u'name': u'Kitchen.20180114_190000.jpg', u'tags': {u'Ivana': {u'y': 0.8231481481481482, u'x': 0.21822916666666667, u'label': u'Ivana'}, u'Svetlana': {u'y': 0.7212962962962963, u'x': 0.23489583333333333, u'label': u'Svetlana'}}}, u'Kitchen.20180114_140000.jpg': {u'name': u'Kitchen.20180114_140000.jpg', u'tags': {u'Luka': {u'y': 0.30185185185185187, u'x': 0.6869791666666667, u'label': u'Luka'}}}, u'Kitchen.20180114_100000.jpg': {u'name': u'Kitchen.20180114_100000.jpg', u'tags': {u'Ivana': {u'y': 0.39537037037037037, u'x': 0.7385416666666667, u'label': u'Ivana'}, u'Luka': {u'y': 0.37222222222222223, u'x': 0.6520833333333333, u'label': u'Luka'}, u'Lana': {u'y': 0.3638888888888889, u'x': 0.6838541666666667, u'label': u'Lana'}, u'Filip': {u'y': 0.34074074074074073, u'x': 0.7130208333333333, u'label': u'Filip'}}}, u'Kitchen.20180114_211000.jpg': {u'name': u'Kitchen.20180114_211000.jpg', u'tags': {u'Ivana': {u'y': 0.362962962962963, u'x': 0.7515625, u'label': u'Ivana'}}}, u'Kitchen.20180114_141000.jpg': {u'name': u'Kitchen.20180114_141000.jpg', u'tags': {u'Luka': {u'y': 0.36666666666666664, u'x': 0.6463541666666667, u'label': u'Luka'}}}}\n"
     ]
    }
   ],
   "source": [
    "import json\n",
    "\n",
    "class Gorgon():\n",
    "    def load_data(self):\n",
    "        filename = \"d:/temp/gorgonstare/state.json\"\n",
    "        fl = open(filename)\n",
    "        jsontext = fl.read()\n",
    "        fl.close()\n",
    "\n",
    "        self.json = json.loads(jsontext)\n",
    "        \n",
    "    def get_labels(filename):\n",
    "        \n",
    "\n",
    "filename = \"d:/temp/gorgonstare/state.json\"\n",
    "fl = open(filename)\n",
    "jsontext = fl.read()\n",
    "fl.close()\n",
    "\n",
    "data = json.loads(jsontext)\n",
    "print(data)"
   ]
  }
 ],
 "metadata": {
  "kernelspec": {
   "display_name": "Python 2",
   "language": "python",
   "name": "python2"
  },
  "language_info": {
   "codemirror_mode": {
    "name": "ipython",
    "version": 2
   },
   "file_extension": ".py",
   "mimetype": "text/x-python",
   "name": "python",
   "nbconvert_exporter": "python",
   "pygments_lexer": "ipython2",
   "version": "2.7.13"
  }
 },
 "nbformat": 4,
 "nbformat_minor": 2
}
